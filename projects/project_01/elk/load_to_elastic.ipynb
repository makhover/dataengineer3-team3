{
 "cells": [
  {
   "cell_type": "code",
   "execution_count": 1,
   "metadata": {},
   "outputs": [],
   "source": [
    "from datetime import datetime\n",
    "from elasticsearch import Elasticsearch\n",
    "from elasticsearch import helpers\n",
    "es = Elasticsearch(\"localhost:9200\")"
   ]
  },
  {
   "cell_type": "markdown",
   "metadata": {},
   "source": [
    "## Создадим индекс в Elasticsearch "
   ]
  },
  {
   "cell_type": "code",
   "execution_count": 2,
   "metadata": {},
   "outputs": [
    {
     "name": "stdout",
     "output_type": "stream",
     "text": [
      "creating index...\n",
      "CPU times: user 8.71 ms, sys: 716 µs, total: 9.43 ms\n",
      "Wall time: 158 ms\n"
     ]
    }
   ],
   "source": [
    "%%time\n",
    "\n",
    "INDEX_NAME = \"item_details_full\"\n",
    "request_body = {\n",
    "    \"settings\" : {\n",
    "        \"number_of_shards\": 4,\n",
    "        \"number_of_replicas\": 1\n",
    "    }\n",
    "}\n",
    "print(\"creating index...\")\n",
    "es.indices.create(index = INDEX_NAME, body = request_body)"
   ]
  },
  {
   "cell_type": "markdown",
   "metadata": {},
   "source": [
    "## Проверим содержимое файла с данными"
   ]
  },
  {
   "cell_type": "code",
   "execution_count": 3,
   "metadata": {},
   "outputs": [
    {
     "name": "stdout",
     "output_type": "stream",
     "text": [
      "['{\"attr0\":\"<B> Прижизненное издание.</B><BR> С.-Петербург, 1900 год. Издание А.Ф.Девриена. <BR> С 23 рисунками. <BR> Типографский переплет. Сохранность хорошая. <BR> Наиболее известное произведение американской писательницы Ф.Бернетт для детей - \\\\\"Маленький лорд Фаунтлерой\\\\\" (\\\\\"Little Lord Fauntleroy\\\\\") появилось в 1886 и имело огромный успех. Книга переведена на множество языков (в русском переводе имеется несколько вариантов названия, в т.ч. \\\\\"История маленького лорда\\\\\" и т.п.). <BR> К маленькому лорду Фаунтлерою жизнь не была сурова, но на его долю выпало серьезное испытание - испытание богатством, властью. Маленький лорд сумел сохранить доброту и благородство в самых тяжелых условиях.  \",\"attr1\":\"История маленького лорда  \",\"itemid\":\"12808031\",\"attr32\":\"Русский  \",\"attr18\":\"Издание А. Ф. Девриена   \",\"attr2\":\"Ф. Бернет  \",\"attr3\":\"Фрэнсис Элиза Ходгстон   Бернетт   \",\"parent_id\":\"17969540\"}\\n']\n"
     ]
    }
   ],
   "source": [
    "FILE_NAME = '/home/de_makhover_anton/lab1/downloads/item_details_full.json'\n",
    "\n",
    "lines = []\n",
    "N = 1000\n",
    "with open(FILE_NAME) as f:\n",
    "    lines.extend(f.readline() for i in range(N))\n",
    "print(lines[:1])"
   ]
  },
  {
   "cell_type": "markdown",
   "metadata": {},
   "source": [
    "## Запишем данные построчно в созданный ранее индекс"
   ]
  },
  {
   "cell_type": "code",
   "execution_count": 4,
   "metadata": {},
   "outputs": [
    {
     "name": "stdout",
     "output_type": "stream",
     "text": [
      "0 rows inserted\n",
      "100 rows inserted\n",
      "200 rows inserted\n",
      "300 rows inserted\n",
      "400 rows inserted\n",
      "500 rows inserted\n",
      "600 rows inserted\n",
      "700 rows inserted\n",
      "800 rows inserted\n",
      "900 rows inserted\n",
      "index rows: 962\n",
      "CPU times: user 1.19 s, sys: 114 ms, total: 1.3 s\n",
      "Wall time: 15.1 s\n"
     ]
    }
   ],
   "source": [
    "%%time\n",
    "import json\n",
    "\n",
    "N = 1000\n",
    "\n",
    "with open(FILE_NAME) as f:\n",
    "    for i in range(N):\n",
    "        line = json.loads(f.readline())\n",
    "        doc = {\n",
    "            \"title\": line.get(\"attr1\", \"\"), \n",
    "            \"summary_processed\": line.get(\"attr0\", \"\"), \n",
    "            \"timestamp\": datetime.now()\n",
    "        }\n",
    "        es.index(index=INDEX_NAME, doc_type='items', body=doc)\n",
    "        if i % 100 == 0:\n",
    "            print(\"%s rows inserted\" % i)\n",
    "\n",
    "res = es.search(index=INDEX_NAME, body={\"query\": {\"match_all\": {}}}) \n",
    "print(\"index rows: %s\" % res['hits']['total'])"
   ]
  },
  {
   "cell_type": "markdown",
   "metadata": {},
   "source": [
    "## Воспользуемся массовой вставкой данных \n",
    "[Bulk insert documentation](https://elasticsearch-py.readthedocs.io/en/master/helpers.html#bulk-helpers)"
   ]
  },
  {
   "cell_type": "code",
   "execution_count": 5,
   "metadata": {},
   "outputs": [
    {
     "name": "stdout",
     "output_type": "stream",
     "text": [
      "100002\n",
      "CPU times: user 6.89 s, sys: 494 ms, total: 7.39 s\n",
      "Wall time: 15 s\n"
     ]
    }
   ],
   "source": [
    "%%time\n",
    "\n",
    "N = 100002\n",
    "\n",
    "def gendata(file_name, N=10000000000000):\n",
    "    with open(file_name) as f:\n",
    "        for i in range(N):\n",
    "            line = json.loads(f.readline())\n",
    "            yield {\n",
    "                \"_index\": INDEX_NAME,\n",
    "                \"_type\": \"items\",\n",
    "                \"_id\": i,\n",
    "                \"_source\":  {\n",
    "                    \"title\": line.get(\"attr1\", \"\"), \n",
    "                    \"summary_processed\": line.get(\"attr0\", \"\"), \n",
    "                    \"timestamp\": datetime.now()\n",
    "                }\n",
    "            }\n",
    "        \n",
    "success, _ = helpers.bulk(es, gendata(FILE_NAME, N), chunk_size=5000)\n",
    "print(success)"
   ]
  },
  {
   "cell_type": "markdown",
   "metadata": {},
   "source": [
    "## Попробуем распараллелить"
   ]
  },
  {
   "cell_type": "code",
   "execution_count": 6,
   "metadata": {},
   "outputs": [
    {
     "name": "stdout",
     "output_type": "stream",
     "text": [
      "CPU times: user 8.8 s, sys: 787 ms, total: 9.59 s\n",
      "Wall time: 10.3 s\n"
     ]
    }
   ],
   "source": [
    "%%time\n",
    "\n",
    "N = 100001\n",
    "\n",
    "for success, info in helpers.parallel_bulk(es, gendata(FILE_NAME, N), thread_count=4, chunk_size=5000):\n",
    "    if not success: print('loading failed', info)"
   ]
  },
  {
   "cell_type": "code",
   "execution_count": 7,
   "metadata": {},
   "outputs": [
    {
     "name": "stdout",
     "output_type": "stream",
     "text": [
      "index rows: 101002\n"
     ]
    }
   ],
   "source": [
    "res = es.search(index=INDEX_NAME, body={\"query\": {\"match_all\": {}}}) \n",
    "print(\"index rows: %s\" % res['hits']['total'])"
   ]
  },
  {
   "cell_type": "markdown",
   "metadata": {},
   "source": [
    "## Последний метод наиоблее подошёл для загрузки данных"
   ]
  },
  {
   "cell_type": "code",
   "execution_count": null,
   "metadata": {},
   "outputs": [],
   "source": [
    "for success, info in helpers.parallel_bulk(es, gendata(FILE_NAME), thread_count=4, chunk_size=5000):\n",
    "    if not success: print('loading failed', info)"
   ]
  }
 ],
 "metadata": {
  "kernelspec": {
   "display_name": "Python 3",
   "language": "python",
   "name": "python3"
  },
  "language_info": {
   "codemirror_mode": {
    "name": "ipython",
    "version": 3
   },
   "file_extension": ".py",
   "mimetype": "text/x-python",
   "name": "python",
   "nbconvert_exporter": "python",
   "pygments_lexer": "ipython3",
   "version": "3.5.2"
  }
 },
 "nbformat": 4,
 "nbformat_minor": 2
}
